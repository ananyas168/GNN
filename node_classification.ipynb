{
  "nbformat": 4,
  "nbformat_minor": 0,
  "metadata": {
    "colab": {
      "name": "node_classification.ipynb",
      "provenance": [],
      "machine_shape": "hm",
      "collapsed_sections": [],
      "authorship_tag": "ABX9TyPGNFsrSZwcuV4OW/iLNz9q",
      "include_colab_link": true
    },
    "kernelspec": {
      "name": "python3",
      "display_name": "Python 3"
    },
    "language_info": {
      "name": "python"
    },
    "accelerator": "GPU"
  },
  "cells": [
    {
      "cell_type": "markdown",
      "metadata": {
        "id": "view-in-github",
        "colab_type": "text"
      },
      "source": [
        "<a href=\"https://colab.research.google.com/github/ananyas168/GNN/blob/main/node_classification.ipynb\" target=\"_parent\"><img src=\"https://colab.research.google.com/assets/colab-badge.svg\" alt=\"Open In Colab\"/></a>"
      ]
    },
    {
      "cell_type": "code",
      "metadata": {
        "colab": {
          "base_uri": "https://localhost:8080/"
        },
        "id": "zm6ZfWD2PvLu",
        "outputId": "7074d8b1-0e74-4439-c1f5-8b9e58e095ea"
      },
      "source": [
        "! nvcc --version "
      ],
      "execution_count": null,
      "outputs": [
        {
          "output_type": "stream",
          "text": [
            "nvcc: NVIDIA (R) Cuda compiler driver\n",
            "Copyright (c) 2005-2020 NVIDIA Corporation\n",
            "Built on Wed_Jul_22_19:09:09_PDT_2020\n",
            "Cuda compilation tools, release 11.0, V11.0.221\n",
            "Build cuda_11.0_bu.TC445_37.28845127_0\n"
          ],
          "name": "stdout"
        }
      ]
    },
    {
      "cell_type": "code",
      "metadata": {
        "colab": {
          "base_uri": "https://localhost:8080/"
        },
        "id": "6bhj1hbxGzuN",
        "outputId": "c740710d-6dbc-496e-af36-1a220ec178a9"
      },
      "source": [
        "!pip install dgl-cu110 \n",
        "%matplotlib inline\n",
        "!pip install scikit-plot\n",
        "import dgl\n",
        "import torch\n",
        "import torch.nn as nn\n",
        "import torch.nn.functional as F\n",
        "from sklearn.metrics import f1_score\n",
        "from sklearn.metrics import classification_report,confusion_matrix\n",
        "import scikitplot as skplt"
      ],
      "execution_count": null,
      "outputs": [
        {
          "output_type": "stream",
          "text": [
            "Collecting dgl-cu110\n",
            "\u001b[?25l  Downloading https://files.pythonhosted.org/packages/76/e5/8536dc2f7048a91c63c913ece8c7b2e7f3e438e741aa4c2d847395486617/dgl_cu110-0.6.1-cp37-cp37m-manylinux1_x86_64.whl (39.9MB)\n",
            "\u001b[K     |████████████████████████████████| 39.9MB 139kB/s \n",
            "\u001b[?25hRequirement already satisfied: networkx>=2.1 in /usr/local/lib/python3.7/dist-packages (from dgl-cu110) (2.5.1)\n",
            "Requirement already satisfied: requests>=2.19.0 in /usr/local/lib/python3.7/dist-packages (from dgl-cu110) (2.23.0)\n",
            "Requirement already satisfied: scipy>=1.1.0 in /usr/local/lib/python3.7/dist-packages (from dgl-cu110) (1.4.1)\n",
            "Requirement already satisfied: numpy>=1.14.0 in /usr/local/lib/python3.7/dist-packages (from dgl-cu110) (1.19.5)\n",
            "Requirement already satisfied: decorator<5,>=4.3 in /usr/local/lib/python3.7/dist-packages (from networkx>=2.1->dgl-cu110) (4.4.2)\n",
            "Requirement already satisfied: urllib3!=1.25.0,!=1.25.1,<1.26,>=1.21.1 in /usr/local/lib/python3.7/dist-packages (from requests>=2.19.0->dgl-cu110) (1.24.3)\n",
            "Requirement already satisfied: chardet<4,>=3.0.2 in /usr/local/lib/python3.7/dist-packages (from requests>=2.19.0->dgl-cu110) (3.0.4)\n",
            "Requirement already satisfied: certifi>=2017.4.17 in /usr/local/lib/python3.7/dist-packages (from requests>=2.19.0->dgl-cu110) (2021.5.30)\n",
            "Requirement already satisfied: idna<3,>=2.5 in /usr/local/lib/python3.7/dist-packages (from requests>=2.19.0->dgl-cu110) (2.10)\n",
            "Installing collected packages: dgl-cu110\n",
            "Successfully installed dgl-cu110-0.6.1\n",
            "Collecting scikit-plot\n",
            "  Downloading https://files.pythonhosted.org/packages/7c/47/32520e259340c140a4ad27c1b97050dd3254fdc517b1d59974d47037510e/scikit_plot-0.3.7-py3-none-any.whl\n",
            "Requirement already satisfied: matplotlib>=1.4.0 in /usr/local/lib/python3.7/dist-packages (from scikit-plot) (3.2.2)\n",
            "Requirement already satisfied: scikit-learn>=0.18 in /usr/local/lib/python3.7/dist-packages (from scikit-plot) (0.22.2.post1)\n",
            "Requirement already satisfied: joblib>=0.10 in /usr/local/lib/python3.7/dist-packages (from scikit-plot) (1.0.1)\n",
            "Requirement already satisfied: scipy>=0.9 in /usr/local/lib/python3.7/dist-packages (from scikit-plot) (1.4.1)\n",
            "Requirement already satisfied: numpy>=1.11 in /usr/local/lib/python3.7/dist-packages (from matplotlib>=1.4.0->scikit-plot) (1.19.5)\n",
            "Requirement already satisfied: python-dateutil>=2.1 in /usr/local/lib/python3.7/dist-packages (from matplotlib>=1.4.0->scikit-plot) (2.8.1)\n",
            "Requirement already satisfied: pyparsing!=2.0.4,!=2.1.2,!=2.1.6,>=2.0.1 in /usr/local/lib/python3.7/dist-packages (from matplotlib>=1.4.0->scikit-plot) (2.4.7)\n",
            "Requirement already satisfied: cycler>=0.10 in /usr/local/lib/python3.7/dist-packages (from matplotlib>=1.4.0->scikit-plot) (0.10.0)\n",
            "Requirement already satisfied: kiwisolver>=1.0.1 in /usr/local/lib/python3.7/dist-packages (from matplotlib>=1.4.0->scikit-plot) (1.3.1)\n",
            "Requirement already satisfied: six>=1.5 in /usr/local/lib/python3.7/dist-packages (from python-dateutil>=2.1->matplotlib>=1.4.0->scikit-plot) (1.15.0)\n",
            "Installing collected packages: scikit-plot\n",
            "Successfully installed scikit-plot-0.3.7\n",
            "Setting the default backend to \"pytorch\". You can change it in the ~/.dgl/config.json file or export the DGLBACKEND environment variable.  Valid options are: pytorch, mxnet, tensorflow (all lowercase)\n"
          ],
          "name": "stdout"
        },
        {
          "output_type": "stream",
          "text": [
            "DGL backend not selected or invalid.  Assuming PyTorch for now.\n",
            "Using backend: pytorch\n"
          ],
          "name": "stderr"
        }
      ]
    },
    {
      "cell_type": "code",
      "metadata": {
        "colab": {
          "base_uri": "https://localhost:8080/"
        },
        "id": "xr1-j5lzHc2e",
        "outputId": "c4500439-6ab3-4ed3-fb37-3e8c954d439b"
      },
      "source": [
        "import dgl.data\n",
        "\n",
        "dataset = dgl.data.CoraGraphDataset()\n",
        "print('Number of categories:', dataset.num_classes)\n",
        "g = dataset[0]\n",
        "print(g)\n",
        "# k= dataset[1]\n",
        "# print(k)\n",
        "print('Node features')\n",
        "print(g.ndata)\n",
        "print('Edge features')\n",
        "print(g.edata)\n"
      ],
      "execution_count": null,
      "outputs": [
        {
          "output_type": "stream",
          "text": [
            "Downloading /root/.dgl/cora_v2.zip from https://data.dgl.ai/dataset/cora_v2.zip...\n",
            "Extracting file to /root/.dgl/cora_v2\n",
            "Finished data loading and preprocessing.\n",
            "  NumNodes: 2708\n",
            "  NumEdges: 10556\n",
            "  NumFeats: 1433\n",
            "  NumClasses: 7\n",
            "  NumTrainingSamples: 140\n",
            "  NumValidationSamples: 500\n",
            "  NumTestSamples: 1000\n",
            "Done saving data into cached files.\n",
            "Number of categories: 7\n",
            "Graph(num_nodes=2708, num_edges=10556,\n",
            "      ndata_schemes={'train_mask': Scheme(shape=(), dtype=torch.bool), 'val_mask': Scheme(shape=(), dtype=torch.bool), 'test_mask': Scheme(shape=(), dtype=torch.bool), 'label': Scheme(shape=(), dtype=torch.int64), 'feat': Scheme(shape=(1433,), dtype=torch.float32)}\n",
            "      edata_schemes={})\n",
            "Node features\n",
            "{'train_mask': tensor([ True,  True,  True,  ..., False, False, False]), 'val_mask': tensor([False, False, False,  ..., False, False, False]), 'test_mask': tensor([False, False, False,  ...,  True,  True,  True]), 'label': tensor([3, 4, 4,  ..., 3, 3, 3]), 'feat': tensor([[0., 0., 0.,  ..., 0., 0., 0.],\n",
            "        [0., 0., 0.,  ..., 0., 0., 0.],\n",
            "        [0., 0., 0.,  ..., 0., 0., 0.],\n",
            "        ...,\n",
            "        [0., 0., 0.,  ..., 0., 0., 0.],\n",
            "        [0., 0., 0.,  ..., 0., 0., 0.],\n",
            "        [0., 0., 0.,  ..., 0., 0., 0.]])}\n",
            "Edge features\n",
            "{}\n"
          ],
          "name": "stdout"
        }
      ]
    },
    {
      "cell_type": "markdown",
      "source": [
        "#Graph Convolution Model"
      ],
      "metadata": {
        "id": "5GvyO0oyv0CM"
      }
    },
    {
      "cell_type": "code",
      "metadata": {
        "colab": {
          "base_uri": "https://localhost:8080/"
        },
        "id": "80n33FfRH4PV",
        "outputId": "eafbecff-d965-4b06-b4f7-01a79eee5e76"
      },
      "source": [
        "from dgl.nn import GraphConv\n",
        "import pandas as pd\n",
        "print(g.ndata['feat'].shape)\n",
        "class GCN(nn.Module):\n",
        "    def __init__(self, in_feats, h_feats, num_classes):\n",
        "        super(GCN, self).__init__()\n",
        "        self.conv1 = GraphConv(in_feats, h_feats)\n",
        "        self.conv2 = GraphConv(h_feats, num_classes)\n",
        "        #self.conv3 = GraphConv(h_feats, num_classes)\n",
        "\n",
        "    def forward(self, g, in_feat):\n",
        "        h = self.conv1(g, in_feat)\n",
        "        h = F.relu(h)\n",
        "        h = self.conv2(g, h)\n",
        "        return h\n",
        "\n",
        "# Create the model with given dimensions\n",
        "model2 = GCN(g.ndata['feat'].shape[1], 16, dataset.num_classes) # shape[1] because we need to know how mant feature are assosiated in a node embedding vector(here = 1433)"
      ],
      "execution_count": null,
      "outputs": [
        {
          "output_type": "stream",
          "text": [
            "torch.Size([2708, 1433])\n"
          ],
          "name": "stdout"
        }
      ]
    },
    {
      "cell_type": "code",
      "metadata": {
        "id": "jKke9aGjKt5H"
      },
      "source": [
        "#model.summary"
      ],
      "execution_count": null,
      "outputs": []
    },
    {
      "cell_type": "code",
      "metadata": {
        "colab": {
          "base_uri": "https://localhost:8080/",
          "height": 885
        },
        "id": "0WUV42ueNZ4Q",
        "outputId": "52f1e504-f59d-43f3-c800-037082b6126e"
      },
      "source": [
        "def train(g, model,path):\n",
        "    optimizer = torch.optim.Adam(model.parameters(), lr=0.01)\n",
        "    best_val_acc = 0\n",
        "    best_test_acc = 0\n",
        "    val=[]\n",
        "    test=[]\n",
        "    train=[]\n",
        "\n",
        "    features = g.ndata['feat']\n",
        "    labels = g.ndata['label']\n",
        "    train_mask = g.ndata['train_mask']\n",
        "    val_mask = g.ndata['val_mask']\n",
        "    test_mask = g.ndata['test_mask']\n",
        "    for e in range(100):\n",
        "        # Forward\n",
        "        logits = model(g, features)\n",
        "        #print('logits are:',logits)\n",
        "        # Compute prediction\n",
        "        pred = logits.argmax(1)\n",
        "\n",
        "        # Compute loss\n",
        "        # Note that you should only compute the losses of the nodes in the training set.\n",
        "        loss = F.cross_entropy(logits[train_mask], labels[train_mask])\n",
        "\n",
        "        # Compute accuracy on training/validation/test\n",
        "        train_acc = (pred[train_mask] == labels[train_mask]).float().mean()\n",
        "        val_acc = (pred[val_mask] == labels[val_mask]).float().mean()\n",
        "        test_acc = (pred[test_mask] == labels[test_mask]).float().mean()\n",
        "        #print(test_acc.item())\n",
        "        test.append(test_acc.item())\n",
        "        train.append(train_acc.item())\n",
        "        val.append(val_acc.item())\n",
        "        \n",
        "\n",
        "\n",
        "        # Save the best validation accuracy and the corresponding test accuracy.\n",
        "        if best_val_acc < val_acc:\n",
        "            best_val_acc = val_acc\n",
        "            best_test_acc = test_acc\n",
        "\n",
        "        # Backward\n",
        "        optimizer.zero_grad()\n",
        "        loss.backward()\n",
        "        optimizer.step()\n",
        "\n",
        "        if e % 5 == 0:\n",
        "            print('In epoch {}, loss: {:.3f}, val acc: {:.3f} (best {:.3f}), test acc: {:.3f} (best {:.3f})'.format(\n",
        "                e, loss, val_acc, best_val_acc, test_acc, best_test_acc))\n",
        "    #prediction, index = torch.max(pred[test_mask],1) \n",
        "    # print(pred[test_mask])\n",
        "    # print(labels[test_mask])\n",
        "    # #print(index)       \n",
        "    # print(\"f1 score:{}\\n\".format(f1_score(labels[test_mask],pred[test_mask])))\n",
        "    \n",
        "    # print('confusion matrix')\n",
        "    # skplt.metrics.plot_confusion_matrix(labels[test_mask],pred[test_mask]) \n",
        "    df= pd.DataFrame()\n",
        "    df['test_accuracy']= test\n",
        "    df['train_accuracy'] = train\n",
        "    df['val_accuracy'] = val\n",
        "    print(df)\n",
        "    ax = df.plot.line(rot=0,ylim=(0,1),figsize=[4,4],title= path)#,colormap='flare')\n",
        "    #ax = bar_data.plot.bar(rot=0)\n",
        "    #ax.label_outer('comparative_accuracy_bar_plot')\n",
        "    fig=ax.get_figure()\n",
        "    fig.savefig(path)\n",
        "    ax.set_xlabel(\"iteration\")\n",
        "    ax.set_ylabel(\"accuracy\")\n",
        "g = g.to('cuda')\n",
        "model2 = GCN(g.ndata['feat'].shape[1], 16, dataset.num_classes).to('cuda')\n",
        "train(g, model2, 'GCN')            \n",
        "# model2 = GCN(g.ndata['feat'].shape[1], 16,32, dataset.num_classes)\n",
        "# train(g, model2)"
      ],
      "execution_count": null,
      "outputs": [
        {
          "output_type": "stream",
          "text": [
            "In epoch 0, loss: 1.946, val acc: 0.080 (best 0.080), test acc: 0.097 (best 0.097)\n",
            "In epoch 5, loss: 1.905, val acc: 0.366 (best 0.366), test acc: 0.387 (best 0.387)\n",
            "In epoch 10, loss: 1.833, val acc: 0.508 (best 0.508), test acc: 0.520 (best 0.520)\n",
            "In epoch 15, loss: 1.737, val acc: 0.608 (best 0.608), test acc: 0.615 (best 0.615)\n",
            "In epoch 20, loss: 1.616, val acc: 0.622 (best 0.628), test acc: 0.639 (best 0.634)\n",
            "In epoch 25, loss: 1.473, val acc: 0.634 (best 0.634), test acc: 0.652 (best 0.652)\n",
            "In epoch 30, loss: 1.312, val acc: 0.650 (best 0.650), test acc: 0.670 (best 0.663)\n",
            "In epoch 35, loss: 1.141, val acc: 0.660 (best 0.660), test acc: 0.677 (best 0.676)\n",
            "In epoch 40, loss: 0.970, val acc: 0.676 (best 0.676), test acc: 0.691 (best 0.691)\n",
            "In epoch 45, loss: 0.808, val acc: 0.698 (best 0.698), test acc: 0.710 (best 0.710)\n",
            "In epoch 50, loss: 0.662, val acc: 0.726 (best 0.726), test acc: 0.732 (best 0.732)\n",
            "In epoch 55, loss: 0.537, val acc: 0.732 (best 0.732), test acc: 0.742 (best 0.736)\n",
            "In epoch 60, loss: 0.433, val acc: 0.740 (best 0.740), test acc: 0.752 (best 0.754)\n",
            "In epoch 65, loss: 0.350, val acc: 0.746 (best 0.746), test acc: 0.760 (best 0.757)\n",
            "In epoch 70, loss: 0.283, val acc: 0.748 (best 0.750), test acc: 0.763 (best 0.763)\n",
            "In epoch 75, loss: 0.231, val acc: 0.752 (best 0.752), test acc: 0.765 (best 0.764)\n",
            "In epoch 80, loss: 0.190, val acc: 0.750 (best 0.752), test acc: 0.768 (best 0.764)\n",
            "In epoch 85, loss: 0.158, val acc: 0.754 (best 0.754), test acc: 0.767 (best 0.767)\n",
            "In epoch 90, loss: 0.132, val acc: 0.760 (best 0.760), test acc: 0.769 (best 0.769)\n",
            "In epoch 95, loss: 0.112, val acc: 0.758 (best 0.762), test acc: 0.767 (best 0.768)\n",
            "    test_accuracy  train_accuracy  val_accuracy\n",
            "0           0.097        0.164286         0.080\n",
            "1           0.371        0.292857         0.334\n",
            "2           0.361        0.528571         0.344\n",
            "3           0.313        0.557143         0.296\n",
            "4           0.354        0.650000         0.340\n",
            "..            ...             ...           ...\n",
            "95          0.767        1.000000         0.758\n",
            "96          0.767        1.000000         0.756\n",
            "97          0.766        1.000000         0.754\n",
            "98          0.767        1.000000         0.754\n",
            "99          0.768        1.000000         0.754\n",
            "\n",
            "[100 rows x 3 columns]\n"
          ],
          "name": "stdout"
        },
        {
          "output_type": "display_data",
          "data": {
            "image/png": "[encoded data removed]",
            "text/plain": [
              "<Figure size 288x288 with 1 Axes>"
            ]
          },
          "metadata": {
            "tags": [],
            "needs_background": "light"
          }
        }
      ]
    },
    {
      "cell_type": "markdown",
      "source": [
        "#Graph Sage Model"
      ],
      "metadata": {
        "id": "pJrjlEudv5R2"
      }
    },
    {
      "cell_type": "code",
      "metadata": {
        "id": "geXJr5JmiFCO"
      },
      "source": [
        "import dgl.function as fn\n",
        "\n",
        "class SAGEConv(nn.Module):\n",
        "    \"\"\"Graph convolution module used by the GraphSAGE model.\n",
        "\n",
        "    Parameters\n",
        "    ----------\n",
        "    in_feat : int\n",
        "        Input feature size.\n",
        "    out_feat : int\n",
        "        Output feature size.\n",
        "    \"\"\"\n",
        "    def __init__(self, in_feat, out_feat):\n",
        "        super(SAGEConv, self).__init__()\n",
        "        # A linear submodule for projecting the input and neighbor feature to the output.\n",
        "        self.linear = nn.Linear(in_feat * 2, out_feat)\n",
        "\n",
        "    def forward(self, g, h):\n",
        "        \"\"\"Forward computation\n",
        "\n",
        "        Parameters\n",
        "        ----------\n",
        "        g : Graph\n",
        "            The input graph.\n",
        "        h : Tensor\n",
        "            The input node feature.\n",
        "        \"\"\"\n",
        "        with g.local_scope():\n",
        "            g.ndata['h'] = h\n",
        "            # update_all is a message passing API.\n",
        "            g.update_all(message_func=fn.copy_u('h', 'm'), reduce_func=fn.mean('m', 'h_N'))\n",
        "            h_N = g.ndata['h_N']\n",
        "            h_total = torch.cat([h, h_N], dim=1)\n",
        "            return self.linear(h_total)"
      ],
      "execution_count": null,
      "outputs": []
    },
    {
      "cell_type": "code",
      "metadata": {
        "id": "G5pCkdwjiKFu",
        "colab": {
          "base_uri": "https://localhost:8080/",
          "height": 885
        },
        "outputId": "1def0821-520f-4131-8e18-d3f177973282"
      },
      "source": [
        "class GSage(nn.Module):\n",
        "    def __init__(self, in_feats, h_feats, num_classes):\n",
        "        super(GSage, self).__init__()\n",
        "        self.conv1 = SAGEConv(in_feats, h_feats)\n",
        "        self.conv2 = SAGEConv(h_feats, num_classes)\n",
        "\n",
        "    def forward(self, g, in_feat):\n",
        "        h = self.conv1(g, in_feat)\n",
        "        h = F.relu(h)\n",
        "        h = self.conv2(g, h)\n",
        "        return h\n",
        "g = g.to('cuda')\n",
        "model = GSage(g.ndata['feat'].shape[1], 16, dataset.num_classes).to('cuda')\n",
        "train(g, model,'Gsage')        "
      ],
      "execution_count": null,
      "outputs": [
        {
          "output_type": "stream",
          "text": [
            "In epoch 0, loss: 1.949, val acc: 0.114 (best 0.114), test acc: 0.103 (best 0.103)\n",
            "In epoch 5, loss: 1.882, val acc: 0.200 (best 0.200), test acc: 0.232 (best 0.232)\n",
            "In epoch 10, loss: 1.754, val acc: 0.574 (best 0.584), test acc: 0.556 (best 0.568)\n",
            "In epoch 15, loss: 1.555, val acc: 0.614 (best 0.614), test acc: 0.618 (best 0.618)\n",
            "In epoch 20, loss: 1.287, val acc: 0.652 (best 0.652), test acc: 0.645 (best 0.645)\n",
            "In epoch 25, loss: 0.985, val acc: 0.672 (best 0.672), test acc: 0.671 (best 0.671)\n",
            "In epoch 30, loss: 0.692, val acc: 0.728 (best 0.728), test acc: 0.729 (best 0.729)\n",
            "In epoch 35, loss: 0.448, val acc: 0.756 (best 0.756), test acc: 0.752 (best 0.747)\n",
            "In epoch 40, loss: 0.274, val acc: 0.754 (best 0.762), test acc: 0.762 (best 0.756)\n",
            "In epoch 45, loss: 0.165, val acc: 0.762 (best 0.764), test acc: 0.764 (best 0.763)\n",
            "In epoch 50, loss: 0.100, val acc: 0.762 (best 0.764), test acc: 0.765 (best 0.763)\n",
            "In epoch 55, loss: 0.064, val acc: 0.762 (best 0.764), test acc: 0.766 (best 0.763)\n",
            "In epoch 60, loss: 0.043, val acc: 0.760 (best 0.764), test acc: 0.767 (best 0.763)\n",
            "In epoch 65, loss: 0.030, val acc: 0.760 (best 0.764), test acc: 0.770 (best 0.763)\n",
            "In epoch 70, loss: 0.023, val acc: 0.760 (best 0.764), test acc: 0.768 (best 0.763)\n",
            "In epoch 75, loss: 0.018, val acc: 0.760 (best 0.764), test acc: 0.768 (best 0.763)\n",
            "In epoch 80, loss: 0.015, val acc: 0.762 (best 0.764), test acc: 0.769 (best 0.763)\n",
            "In epoch 85, loss: 0.013, val acc: 0.766 (best 0.766), test acc: 0.769 (best 0.769)\n",
            "In epoch 90, loss: 0.011, val acc: 0.764 (best 0.766), test acc: 0.770 (best 0.769)\n",
            "In epoch 95, loss: 0.010, val acc: 0.764 (best 0.766), test acc: 0.770 (best 0.769)\n",
            "    test_accuracy  train_accuracy  val_accuracy\n",
            "0           0.103        0.142857         0.114\n",
            "1           0.103        0.142857         0.114\n",
            "2           0.103        0.142857         0.114\n",
            "3           0.103        0.142857         0.114\n",
            "4           0.108        0.278571         0.118\n",
            "..            ...             ...           ...\n",
            "95          0.770        1.000000         0.764\n",
            "96          0.770        1.000000         0.764\n",
            "97          0.770        1.000000         0.764\n",
            "98          0.770        1.000000         0.764\n",
            "99          0.770        1.000000         0.764\n",
            "\n",
            "[100 rows x 3 columns]\n"
          ],
          "name": "stdout"
        },
        {
          "output_type": "display_data",
          "data": {
            "image/png": "[encoded data removed]",
            "text/plain": [
              "<Figure size 288x288 with 1 Axes>"
            ]
          },
          "metadata": {
            "tags": [],
            "needs_background": "light"
          }
        }
      ]
    },
    {
      "cell_type": "markdown",
      "source": [
        "# Weighted Graph Convolution Model"
      ],
      "metadata": {
        "id": "tdcPMmCtv9Gj"
      }
    },
    {
      "cell_type": "code",
      "metadata": {
        "id": "v_Zo9yOqiXAG"
      },
      "source": [
        "class WeightedSAGEConv(nn.Module):\n",
        "    \"\"\"Graph convolution module used by the GraphSAGE model with edge weights.\n",
        "\n",
        "    Parameters\n",
        "    ----------\n",
        "    in_feat : int\n",
        "        Input feature size.\n",
        "    out_feat : int\n",
        "        Output feature size.\n",
        "    \"\"\"\n",
        "    def __init__(self, in_feat, out_feat):\n",
        "        super(WeightedSAGEConv, self).__init__()\n",
        "        # A linear submodule for projecting the input and neighbor feature to the output.\n",
        "        self.linear = nn.Linear(in_feat * 2, out_feat)\n",
        "\n",
        "    def forward(self, g, h, w):\n",
        "        \"\"\"Forward computation\n",
        "\n",
        "        Parameters\n",
        "        ----------\n",
        "        g : Graph\n",
        "            The input graph.\n",
        "        h : Tensor\n",
        "            The input node feature.\n",
        "        w : Tensor\n",
        "            The edge weight.\n",
        "        \"\"\"\n",
        "        with g.local_scope():\n",
        "            g.ndata['h'] = h\n",
        "            g.edata['w'] = w\n",
        "            g.update_all(message_func=fn.u_mul_e('h', 'w', 'm'), reduce_func=fn.mean('m', 'h_N'))\n",
        "            h_N = g.ndata['h_N']\n",
        "            h_total = torch.cat([h, h_N], dim=1)\n",
        "            return self.linear(h_total)"
      ],
      "execution_count": null,
      "outputs": []
    },
    {
      "cell_type": "code",
      "metadata": {
        "colab": {
          "base_uri": "https://localhost:8080/",
          "height": 885
        },
        "id": "QJb0Y8KSibbn",
        "outputId": "a9a6572a-3d5b-4e3c-a011-fa86344b7703"
      },
      "source": [
        "class WeightedGSage(nn.Module):\n",
        "    def __init__(self, in_feats, h_feats, num_classes):\n",
        "        super(WeightedGSage, self).__init__()\n",
        "        self.conv1 = WeightedSAGEConv(in_feats, h_feats)\n",
        "        self.conv2 = WeightedSAGEConv(h_feats, num_classes)\n",
        "\n",
        "    def forward(self, g, in_feat):\n",
        "        h = self.conv1(g, in_feat, torch.ones(g.num_edges()).to(g.device))\n",
        "        h = F.relu(h)\n",
        "        h = self.conv2(g, h, torch.ones(g.num_edges()).to(g.device))\n",
        "        return h\n",
        "\n",
        "model = WeightedGSage(g.ndata['feat'].shape[1], 16, dataset.num_classes).to('cuda')\n",
        "train(g, model,'h')"
      ],
      "execution_count": null,
      "outputs": [
        {
          "output_type": "stream",
          "text": [
            "In epoch 0, loss: 1.949, val acc: 0.156 (best 0.156), test acc: 0.144 (best 0.144)\n",
            "In epoch 5, loss: 1.854, val acc: 0.480 (best 0.588), test acc: 0.488 (best 0.595)\n",
            "In epoch 10, loss: 1.688, val acc: 0.550 (best 0.588), test acc: 0.563 (best 0.595)\n",
            "In epoch 15, loss: 1.446, val acc: 0.638 (best 0.638), test acc: 0.645 (best 0.645)\n",
            "In epoch 20, loss: 1.144, val acc: 0.696 (best 0.696), test acc: 0.711 (best 0.711)\n",
            "In epoch 25, loss: 0.824, val acc: 0.720 (best 0.720), test acc: 0.739 (best 0.739)\n",
            "In epoch 30, loss: 0.535, val acc: 0.738 (best 0.738), test acc: 0.752 (best 0.751)\n",
            "In epoch 35, loss: 0.319, val acc: 0.754 (best 0.754), test acc: 0.763 (best 0.763)\n",
            "In epoch 40, loss: 0.183, val acc: 0.758 (best 0.760), test acc: 0.772 (best 0.768)\n",
            "In epoch 45, loss: 0.106, val acc: 0.762 (best 0.762), test acc: 0.782 (best 0.782)\n",
            "In epoch 50, loss: 0.065, val acc: 0.768 (best 0.770), test acc: 0.782 (best 0.783)\n",
            "In epoch 55, loss: 0.042, val acc: 0.764 (best 0.770), test acc: 0.780 (best 0.783)\n",
            "In epoch 60, loss: 0.030, val acc: 0.764 (best 0.770), test acc: 0.776 (best 0.783)\n",
            "In epoch 65, loss: 0.022, val acc: 0.762 (best 0.770), test acc: 0.772 (best 0.783)\n",
            "In epoch 70, loss: 0.017, val acc: 0.762 (best 0.770), test acc: 0.770 (best 0.783)\n",
            "In epoch 75, loss: 0.014, val acc: 0.762 (best 0.770), test acc: 0.767 (best 0.783)\n",
            "In epoch 80, loss: 0.012, val acc: 0.760 (best 0.770), test acc: 0.766 (best 0.783)\n",
            "In epoch 85, loss: 0.011, val acc: 0.758 (best 0.770), test acc: 0.768 (best 0.783)\n",
            "In epoch 90, loss: 0.009, val acc: 0.758 (best 0.770), test acc: 0.768 (best 0.783)\n",
            "In epoch 95, loss: 0.009, val acc: 0.756 (best 0.770), test acc: 0.767 (best 0.783)\n",
            "    test_accuracy  train_accuracy  val_accuracy\n",
            "0           0.144        0.142857         0.156\n",
            "1           0.146        0.171429         0.156\n",
            "2           0.216        0.292857         0.216\n",
            "3           0.473        0.742857         0.466\n",
            "4           0.595        0.878571         0.588\n",
            "..            ...             ...           ...\n",
            "95          0.767        1.000000         0.756\n",
            "96          0.768        1.000000         0.756\n",
            "97          0.767        1.000000         0.756\n",
            "98          0.767        1.000000         0.756\n",
            "99          0.767        1.000000         0.756\n",
            "\n",
            "[100 rows x 3 columns]\n"
          ],
          "name": "stdout"
        },
        {
          "output_type": "display_data",
          "data": {
            "image/png": "[encoded data removed]",
            "text/plain": [
              "<Figure size 288x288 with 1 Axes>"
            ]
          },
          "metadata": {
            "tags": [],
            "needs_background": "light"
          }
        }
      ]
    },
    {
      "cell_type": "markdown",
      "source": [
        "#Graph attention Model"
      ],
      "metadata": {
        "id": "P5poCn_ewBV4"
      }
    },
    {
      "cell_type": "code",
      "metadata": {
        "colab": {
          "base_uri": "https://localhost:8080/",
          "height": 885
        },
        "id": "Z76XTQ6KyWC7",
        "outputId": "bac75921-28f7-42f1-ad7d-b494c646d595"
      },
      "source": [
        "\n",
        "from dgl.nn.pytorch.conv import GATConv\n",
        "\n",
        "class GAT(torch.nn.Module):\n",
        "    def __init__(self, in_dim, hidden_dim, out_dim, num_heads):\n",
        "        super(GAT, self).__init__()\n",
        "        self.layer1 = GATConv(in_dim, hidden_dim, num_heads)\n",
        "        self.layer2 = GATConv(hidden_dim * num_heads, out_dim, 1)\n",
        "    def forward(self, g, h):\n",
        "        h = self.layer1(g, h)\n",
        "        h = h.view(-1, h.size(1) * h.size(2))\n",
        "        h = F.elu(h)\n",
        "        h = self.layer2(g, h)\n",
        "        h = h.squeeze() \n",
        "        return h\n",
        "\n",
        "model = GAT(g.ndata['feat'].shape[1], 16, dataset.num_classes,12).to('cuda')\n",
        "train(g, model,'GAT')        "
      ],
      "execution_count": null,
      "outputs": [
        {
          "output_type": "stream",
          "text": [
            "In epoch 0, loss: 1.945, val acc: 0.200 (best 0.200), test acc: 0.211 (best 0.211)\n",
            "In epoch 5, loss: 1.487, val acc: 0.784 (best 0.784), test acc: 0.779 (best 0.779)\n",
            "In epoch 10, loss: 0.917, val acc: 0.780 (best 0.784), test acc: 0.782 (best 0.779)\n",
            "In epoch 15, loss: 0.440, val acc: 0.782 (best 0.788), test acc: 0.788 (best 0.791)\n",
            "In epoch 20, loss: 0.182, val acc: 0.786 (best 0.788), test acc: 0.800 (best 0.791)\n",
            "In epoch 25, loss: 0.073, val acc: 0.770 (best 0.788), test acc: 0.804 (best 0.791)\n",
            "In epoch 30, loss: 0.031, val acc: 0.772 (best 0.788), test acc: 0.796 (best 0.791)\n",
            "In epoch 35, loss: 0.015, val acc: 0.762 (best 0.788), test acc: 0.790 (best 0.791)\n",
            "In epoch 40, loss: 0.008, val acc: 0.760 (best 0.788), test acc: 0.784 (best 0.791)\n",
            "In epoch 45, loss: 0.005, val acc: 0.756 (best 0.788), test acc: 0.781 (best 0.791)\n",
            "In epoch 50, loss: 0.003, val acc: 0.752 (best 0.788), test acc: 0.782 (best 0.791)\n",
            "In epoch 55, loss: 0.002, val acc: 0.752 (best 0.788), test acc: 0.778 (best 0.791)\n",
            "In epoch 60, loss: 0.002, val acc: 0.750 (best 0.788), test acc: 0.774 (best 0.791)\n",
            "In epoch 65, loss: 0.002, val acc: 0.750 (best 0.788), test acc: 0.774 (best 0.791)\n",
            "In epoch 70, loss: 0.001, val acc: 0.748 (best 0.788), test acc: 0.769 (best 0.791)\n",
            "In epoch 75, loss: 0.001, val acc: 0.746 (best 0.788), test acc: 0.771 (best 0.791)\n",
            "In epoch 80, loss: 0.001, val acc: 0.746 (best 0.788), test acc: 0.772 (best 0.791)\n",
            "In epoch 85, loss: 0.001, val acc: 0.748 (best 0.788), test acc: 0.771 (best 0.791)\n",
            "In epoch 90, loss: 0.001, val acc: 0.748 (best 0.788), test acc: 0.772 (best 0.791)\n",
            "In epoch 95, loss: 0.001, val acc: 0.748 (best 0.788), test acc: 0.772 (best 0.791)\n",
            "    test_accuracy  train_accuracy  val_accuracy\n",
            "0           0.211        0.185714         0.200\n",
            "1           0.193        0.307143         0.206\n",
            "2           0.745        0.971429         0.738\n",
            "3           0.721        0.928571         0.726\n",
            "4           0.744        0.942857         0.756\n",
            "..            ...             ...           ...\n",
            "95          0.772        1.000000         0.748\n",
            "96          0.772        1.000000         0.748\n",
            "97          0.772        1.000000         0.748\n",
            "98          0.772        1.000000         0.748\n",
            "99          0.772        1.000000         0.748\n",
            "\n",
            "[100 rows x 3 columns]\n"
          ],
          "name": "stdout"
        },
        {
          "output_type": "display_data",
          "data": {
            "image/png": "[encoded data removed]",
            "text/plain": [
              "<Figure size 288x288 with 1 Axes>"
            ]
          },
          "metadata": {
            "tags": [],
            "needs_background": "light"
          }
        }
      ]
    }
  ]
}